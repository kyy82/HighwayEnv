{
 "cells": [
  {
   "cell_type": "markdown",
   "metadata": {
    "id": "sepDWoBqdRMK"
   },
   "source": [
    "# Training a DQN with social attention on `intersection-v0`\n",
    "\n"
   ]
  },
  {
   "cell_type": "code",
   "execution_count": 2,
   "metadata": {
    "id": "Kx8X4s8krNWt",
    "ExecuteTime": {
     "end_time": "2024-03-12T18:11:44.774328769Z",
     "start_time": "2024-03-12T18:11:36.711872111Z"
    }
   },
   "outputs": [
    {
     "name": "stdout",
     "output_type": "stream",
     "text": [
      "Requirement already satisfied: highway-env in /home/kevin/anaconda3/envs/highway-env/lib/python3.10/site-packages (1.8.2)\r\n",
      "Requirement already satisfied: gymnasium>=0.27 in /home/kevin/anaconda3/envs/highway-env/lib/python3.10/site-packages (from highway-env) (0.29.1)\r\n",
      "Requirement already satisfied: numpy in /home/kevin/anaconda3/envs/highway-env/lib/python3.10/site-packages (from highway-env) (1.26.4)\r\n",
      "Requirement already satisfied: pygame>=2.0.2 in /home/kevin/anaconda3/envs/highway-env/lib/python3.10/site-packages (from highway-env) (2.5.2)\r\n",
      "Requirement already satisfied: matplotlib in /home/kevin/anaconda3/envs/highway-env/lib/python3.10/site-packages (from highway-env) (3.8.3)\r\n",
      "Requirement already satisfied: pandas in /home/kevin/anaconda3/envs/highway-env/lib/python3.10/site-packages (from highway-env) (2.2.1)\r\n",
      "Requirement already satisfied: scipy in /home/kevin/anaconda3/envs/highway-env/lib/python3.10/site-packages (from highway-env) (1.12.0)\r\n",
      "Requirement already satisfied: cloudpickle>=1.2.0 in /home/kevin/anaconda3/envs/highway-env/lib/python3.10/site-packages (from gymnasium>=0.27->highway-env) (3.0.0)\r\n",
      "Requirement already satisfied: typing-extensions>=4.3.0 in /home/kevin/anaconda3/envs/highway-env/lib/python3.10/site-packages (from gymnasium>=0.27->highway-env) (4.10.0)\r\n",
      "Requirement already satisfied: farama-notifications>=0.0.1 in /home/kevin/anaconda3/envs/highway-env/lib/python3.10/site-packages (from gymnasium>=0.27->highway-env) (0.0.4)\r\n",
      "Requirement already satisfied: contourpy>=1.0.1 in /home/kevin/anaconda3/envs/highway-env/lib/python3.10/site-packages (from matplotlib->highway-env) (1.2.0)\r\n",
      "Requirement already satisfied: cycler>=0.10 in /home/kevin/anaconda3/envs/highway-env/lib/python3.10/site-packages (from matplotlib->highway-env) (0.12.1)\r\n",
      "Requirement already satisfied: fonttools>=4.22.0 in /home/kevin/anaconda3/envs/highway-env/lib/python3.10/site-packages (from matplotlib->highway-env) (4.49.0)\r\n",
      "Requirement already satisfied: kiwisolver>=1.3.1 in /home/kevin/anaconda3/envs/highway-env/lib/python3.10/site-packages (from matplotlib->highway-env) (1.4.5)\r\n",
      "Requirement already satisfied: packaging>=20.0 in /home/kevin/anaconda3/envs/highway-env/lib/python3.10/site-packages (from matplotlib->highway-env) (23.1)\r\n",
      "Requirement already satisfied: pillow>=8 in /home/kevin/anaconda3/envs/highway-env/lib/python3.10/site-packages (from matplotlib->highway-env) (10.2.0)\r\n",
      "Requirement already satisfied: pyparsing>=2.3.1 in /home/kevin/anaconda3/envs/highway-env/lib/python3.10/site-packages (from matplotlib->highway-env) (3.1.2)\r\n",
      "Requirement already satisfied: python-dateutil>=2.7 in /home/kevin/anaconda3/envs/highway-env/lib/python3.10/site-packages (from matplotlib->highway-env) (2.8.2)\r\n",
      "Requirement already satisfied: pytz>=2020.1 in /home/kevin/anaconda3/envs/highway-env/lib/python3.10/site-packages (from pandas->highway-env) (2023.3.post1)\r\n",
      "Requirement already satisfied: tzdata>=2022.7 in /home/kevin/anaconda3/envs/highway-env/lib/python3.10/site-packages (from pandas->highway-env) (2024.1)\r\n",
      "Requirement already satisfied: six>=1.5 in /home/kevin/anaconda3/envs/highway-env/lib/python3.10/site-packages (from python-dateutil>=2.7->matplotlib->highway-env) (1.16.0)\r\n",
      "Collecting rl-agents\r\n",
      "  Cloning https://github.com/eleurent/rl-agents to /tmp/pip-install-v656g0_s/rl-agents_3c4b46960fe141639bb13aad06846172\r\n",
      "  Running command git clone --filter=blob:none --quiet https://github.com/eleurent/rl-agents /tmp/pip-install-v656g0_s/rl-agents_3c4b46960fe141639bb13aad06846172\r\n",
      "  Resolved https://github.com/eleurent/rl-agents to commit 84df15ea977271e6a4d015f10f9f355f7e866890\r\n",
      "  Preparing metadata (setup.py) ... \u001B[?25ldone\r\n",
      "\u001B[?25hRequirement already satisfied: gymnasium in /home/kevin/anaconda3/envs/highway-env/lib/python3.10/site-packages (from rl-agents) (0.29.1)\r\n",
      "Requirement already satisfied: numpy in /home/kevin/anaconda3/envs/highway-env/lib/python3.10/site-packages (from rl-agents) (1.26.4)\r\n",
      "Requirement already satisfied: pandas in /home/kevin/anaconda3/envs/highway-env/lib/python3.10/site-packages (from rl-agents) (2.2.1)\r\n",
      "Requirement already satisfied: numba in /home/kevin/anaconda3/envs/highway-env/lib/python3.10/site-packages (from rl-agents) (0.59.0)\r\n",
      "Requirement already satisfied: pygame in /home/kevin/anaconda3/envs/highway-env/lib/python3.10/site-packages (from rl-agents) (2.5.2)\r\n",
      "Requirement already satisfied: matplotlib in /home/kevin/anaconda3/envs/highway-env/lib/python3.10/site-packages (from rl-agents) (3.8.3)\r\n",
      "Requirement already satisfied: seaborn in /home/kevin/anaconda3/envs/highway-env/lib/python3.10/site-packages (from rl-agents) (0.13.2)\r\n",
      "Requirement already satisfied: six in /home/kevin/anaconda3/envs/highway-env/lib/python3.10/site-packages (from rl-agents) (1.16.0)\r\n",
      "Requirement already satisfied: docopt in /home/kevin/anaconda3/envs/highway-env/lib/python3.10/site-packages (from rl-agents) (0.6.2)\r\n",
      "Requirement already satisfied: torch>=1.2.0 in /home/kevin/anaconda3/envs/highway-env/lib/python3.10/site-packages (from rl-agents) (2.2.1)\r\n",
      "Requirement already satisfied: tensorboardX in /home/kevin/anaconda3/envs/highway-env/lib/python3.10/site-packages (from rl-agents) (2.6.2.2)\r\n",
      "Requirement already satisfied: scipy in /home/kevin/anaconda3/envs/highway-env/lib/python3.10/site-packages (from rl-agents) (1.12.0)\r\n",
      "Requirement already satisfied: filelock in /home/kevin/anaconda3/envs/highway-env/lib/python3.10/site-packages (from torch>=1.2.0->rl-agents) (3.13.1)\r\n",
      "Requirement already satisfied: typing-extensions>=4.8.0 in /home/kevin/anaconda3/envs/highway-env/lib/python3.10/site-packages (from torch>=1.2.0->rl-agents) (4.10.0)\r\n",
      "Requirement already satisfied: sympy in /home/kevin/anaconda3/envs/highway-env/lib/python3.10/site-packages (from torch>=1.2.0->rl-agents) (1.12)\r\n",
      "Requirement already satisfied: networkx in /home/kevin/anaconda3/envs/highway-env/lib/python3.10/site-packages (from torch>=1.2.0->rl-agents) (3.2.1)\r\n",
      "Requirement already satisfied: jinja2 in /home/kevin/anaconda3/envs/highway-env/lib/python3.10/site-packages (from torch>=1.2.0->rl-agents) (3.1.3)\r\n",
      "Requirement already satisfied: fsspec in /home/kevin/anaconda3/envs/highway-env/lib/python3.10/site-packages (from torch>=1.2.0->rl-agents) (2024.2.0)\r\n",
      "Requirement already satisfied: nvidia-cuda-nvrtc-cu12==12.1.105 in /home/kevin/anaconda3/envs/highway-env/lib/python3.10/site-packages (from torch>=1.2.0->rl-agents) (12.1.105)\r\n",
      "Requirement already satisfied: nvidia-cuda-runtime-cu12==12.1.105 in /home/kevin/anaconda3/envs/highway-env/lib/python3.10/site-packages (from torch>=1.2.0->rl-agents) (12.1.105)\r\n",
      "Requirement already satisfied: nvidia-cuda-cupti-cu12==12.1.105 in /home/kevin/anaconda3/envs/highway-env/lib/python3.10/site-packages (from torch>=1.2.0->rl-agents) (12.1.105)\r\n",
      "Requirement already satisfied: nvidia-cudnn-cu12==8.9.2.26 in /home/kevin/anaconda3/envs/highway-env/lib/python3.10/site-packages (from torch>=1.2.0->rl-agents) (8.9.2.26)\r\n",
      "Requirement already satisfied: nvidia-cublas-cu12==12.1.3.1 in /home/kevin/anaconda3/envs/highway-env/lib/python3.10/site-packages (from torch>=1.2.0->rl-agents) (12.1.3.1)\r\n",
      "Requirement already satisfied: nvidia-cufft-cu12==11.0.2.54 in /home/kevin/anaconda3/envs/highway-env/lib/python3.10/site-packages (from torch>=1.2.0->rl-agents) (11.0.2.54)\r\n",
      "Requirement already satisfied: nvidia-curand-cu12==10.3.2.106 in /home/kevin/anaconda3/envs/highway-env/lib/python3.10/site-packages (from torch>=1.2.0->rl-agents) (10.3.2.106)\r\n",
      "Requirement already satisfied: nvidia-cusolver-cu12==11.4.5.107 in /home/kevin/anaconda3/envs/highway-env/lib/python3.10/site-packages (from torch>=1.2.0->rl-agents) (11.4.5.107)\r\n",
      "Requirement already satisfied: nvidia-cusparse-cu12==12.1.0.106 in /home/kevin/anaconda3/envs/highway-env/lib/python3.10/site-packages (from torch>=1.2.0->rl-agents) (12.1.0.106)\r\n",
      "Requirement already satisfied: nvidia-nccl-cu12==2.19.3 in /home/kevin/anaconda3/envs/highway-env/lib/python3.10/site-packages (from torch>=1.2.0->rl-agents) (2.19.3)\r\n",
      "Requirement already satisfied: nvidia-nvtx-cu12==12.1.105 in /home/kevin/anaconda3/envs/highway-env/lib/python3.10/site-packages (from torch>=1.2.0->rl-agents) (12.1.105)\r\n",
      "Requirement already satisfied: triton==2.2.0 in /home/kevin/anaconda3/envs/highway-env/lib/python3.10/site-packages (from torch>=1.2.0->rl-agents) (2.2.0)\r\n",
      "Requirement already satisfied: nvidia-nvjitlink-cu12 in /home/kevin/anaconda3/envs/highway-env/lib/python3.10/site-packages (from nvidia-cusolver-cu12==11.4.5.107->torch>=1.2.0->rl-agents) (12.4.99)\r\n",
      "Requirement already satisfied: cloudpickle>=1.2.0 in /home/kevin/anaconda3/envs/highway-env/lib/python3.10/site-packages (from gymnasium->rl-agents) (3.0.0)\r\n",
      "Requirement already satisfied: farama-notifications>=0.0.1 in /home/kevin/anaconda3/envs/highway-env/lib/python3.10/site-packages (from gymnasium->rl-agents) (0.0.4)\r\n",
      "Requirement already satisfied: contourpy>=1.0.1 in /home/kevin/anaconda3/envs/highway-env/lib/python3.10/site-packages (from matplotlib->rl-agents) (1.2.0)\r\n",
      "Requirement already satisfied: cycler>=0.10 in /home/kevin/anaconda3/envs/highway-env/lib/python3.10/site-packages (from matplotlib->rl-agents) (0.12.1)\r\n",
      "Requirement already satisfied: fonttools>=4.22.0 in /home/kevin/anaconda3/envs/highway-env/lib/python3.10/site-packages (from matplotlib->rl-agents) (4.49.0)\r\n",
      "Requirement already satisfied: kiwisolver>=1.3.1 in /home/kevin/anaconda3/envs/highway-env/lib/python3.10/site-packages (from matplotlib->rl-agents) (1.4.5)\r\n",
      "Requirement already satisfied: packaging>=20.0 in /home/kevin/anaconda3/envs/highway-env/lib/python3.10/site-packages (from matplotlib->rl-agents) (23.1)\r\n",
      "Requirement already satisfied: pillow>=8 in /home/kevin/anaconda3/envs/highway-env/lib/python3.10/site-packages (from matplotlib->rl-agents) (10.2.0)\r\n",
      "Requirement already satisfied: pyparsing>=2.3.1 in /home/kevin/anaconda3/envs/highway-env/lib/python3.10/site-packages (from matplotlib->rl-agents) (3.1.2)\r\n",
      "Requirement already satisfied: python-dateutil>=2.7 in /home/kevin/anaconda3/envs/highway-env/lib/python3.10/site-packages (from matplotlib->rl-agents) (2.8.2)\r\n",
      "Requirement already satisfied: llvmlite<0.43,>=0.42.0dev0 in /home/kevin/anaconda3/envs/highway-env/lib/python3.10/site-packages (from numba->rl-agents) (0.42.0)\r\n",
      "Requirement already satisfied: pytz>=2020.1 in /home/kevin/anaconda3/envs/highway-env/lib/python3.10/site-packages (from pandas->rl-agents) (2023.3.post1)\r\n",
      "Requirement already satisfied: tzdata>=2022.7 in /home/kevin/anaconda3/envs/highway-env/lib/python3.10/site-packages (from pandas->rl-agents) (2024.1)\r\n",
      "Requirement already satisfied: protobuf>=3.20 in /home/kevin/anaconda3/envs/highway-env/lib/python3.10/site-packages (from tensorboardX->rl-agents) (4.25.3)\r\n",
      "Requirement already satisfied: MarkupSafe>=2.0 in /home/kevin/anaconda3/envs/highway-env/lib/python3.10/site-packages (from jinja2->torch>=1.2.0->rl-agents) (2.1.3)\r\n",
      "Requirement already satisfied: mpmath>=0.19 in /home/kevin/anaconda3/envs/highway-env/lib/python3.10/site-packages (from sympy->torch>=1.2.0->rl-agents) (1.3.0)\r\n",
      "Requirement already satisfied: moviepy in /home/kevin/anaconda3/envs/highway-env/lib/python3.10/site-packages (1.0.3)\r\n",
      "Requirement already satisfied: decorator<5.0,>=4.0.2 in /home/kevin/anaconda3/envs/highway-env/lib/python3.10/site-packages (from moviepy) (4.4.2)\r\n",
      "Requirement already satisfied: tqdm<5.0,>=4.11.2 in /home/kevin/anaconda3/envs/highway-env/lib/python3.10/site-packages (from moviepy) (4.66.2)\r\n",
      "Requirement already satisfied: requests<3.0,>=2.8.1 in /home/kevin/anaconda3/envs/highway-env/lib/python3.10/site-packages (from moviepy) (2.31.0)\r\n",
      "Requirement already satisfied: proglog<=1.0.0 in /home/kevin/anaconda3/envs/highway-env/lib/python3.10/site-packages (from moviepy) (0.1.10)\r\n",
      "Requirement already satisfied: numpy>=1.17.3 in /home/kevin/anaconda3/envs/highway-env/lib/python3.10/site-packages (from moviepy) (1.26.4)\r\n",
      "Requirement already satisfied: imageio<3.0,>=2.5 in /home/kevin/anaconda3/envs/highway-env/lib/python3.10/site-packages (from moviepy) (2.34.0)\r\n",
      "Requirement already satisfied: imageio-ffmpeg>=0.2.0 in /home/kevin/anaconda3/envs/highway-env/lib/python3.10/site-packages (from moviepy) (0.4.9)\r\n",
      "Requirement already satisfied: pillow>=8.3.2 in /home/kevin/anaconda3/envs/highway-env/lib/python3.10/site-packages (from imageio<3.0,>=2.5->moviepy) (10.2.0)\r\n",
      "Requirement already satisfied: setuptools in /home/kevin/anaconda3/envs/highway-env/lib/python3.10/site-packages (from imageio-ffmpeg>=0.2.0->moviepy) (68.2.2)\r\n",
      "Requirement already satisfied: charset-normalizer<4,>=2 in /home/kevin/anaconda3/envs/highway-env/lib/python3.10/site-packages (from requests<3.0,>=2.8.1->moviepy) (2.0.4)\r\n",
      "Requirement already satisfied: idna<4,>=2.5 in /home/kevin/anaconda3/envs/highway-env/lib/python3.10/site-packages (from requests<3.0,>=2.8.1->moviepy) (3.4)\r\n",
      "Requirement already satisfied: urllib3<3,>=1.21.1 in /home/kevin/anaconda3/envs/highway-env/lib/python3.10/site-packages (from requests<3.0,>=2.8.1->moviepy) (2.1.0)\r\n",
      "Requirement already satisfied: certifi>=2017.4.17 in /home/kevin/anaconda3/envs/highway-env/lib/python3.10/site-packages (from requests<3.0,>=2.8.1->moviepy) (2024.2.2)\r\n",
      "Requirement already satisfied: imageio_ffmpeg in /home/kevin/anaconda3/envs/highway-env/lib/python3.10/site-packages (0.4.9)\r\n",
      "Requirement already satisfied: setuptools in /home/kevin/anaconda3/envs/highway-env/lib/python3.10/site-packages (from imageio_ffmpeg) (68.2.2)\r\n",
      "The tensorboard extension is already loaded. To reload it, use:\n",
      "  %reload_ext tensorboard\n",
      "Requirement already satisfied: tensorboardx in /home/kevin/anaconda3/envs/highway-env/lib/python3.10/site-packages (2.6.2.2)\r\n",
      "Requirement already satisfied: gym in /home/kevin/anaconda3/envs/highway-env/lib/python3.10/site-packages (0.26.2)\r\n",
      "Requirement already satisfied: pyvirtualdisplay in /home/kevin/anaconda3/envs/highway-env/lib/python3.10/site-packages (3.0)\r\n",
      "Requirement already satisfied: numpy in /home/kevin/anaconda3/envs/highway-env/lib/python3.10/site-packages (from tensorboardx) (1.26.4)\r\n",
      "Requirement already satisfied: packaging in /home/kevin/anaconda3/envs/highway-env/lib/python3.10/site-packages (from tensorboardx) (23.1)\r\n",
      "Requirement already satisfied: protobuf>=3.20 in /home/kevin/anaconda3/envs/highway-env/lib/python3.10/site-packages (from tensorboardx) (4.25.3)\r\n",
      "Requirement already satisfied: cloudpickle>=1.2.0 in /home/kevin/anaconda3/envs/highway-env/lib/python3.10/site-packages (from gym) (3.0.0)\r\n",
      "Requirement already satisfied: gym-notices>=0.0.4 in /home/kevin/anaconda3/envs/highway-env/lib/python3.10/site-packages (from gym) (0.0.8)\r\n",
      "E: Could not open lock file /var/lib/dpkg/lock-frontend - open (13: Permission denied)\r\n",
      "E: Unable to acquire the dpkg frontend lock (/var/lib/dpkg/lock-frontend), are you root?\r\n"
     ]
    },
    {
     "ename": "FileNotFoundError",
     "evalue": "[Errno 2] No such file or directory: 'Xvfb'",
     "output_type": "error",
     "traceback": [
      "\u001B[0;31m---------------------------------------------------------------------------\u001B[0m",
      "\u001B[0;31mFileNotFoundError\u001B[0m                         Traceback (most recent call last)",
      "Cell \u001B[0;32mIn[2], line 19\u001B[0m\n\u001B[1;32m     17\u001B[0m get_ipython()\u001B[38;5;241m.\u001B[39msystem(\u001B[38;5;124m'\u001B[39m\u001B[38;5;124mgit clone https://github.com/Farama-Foundation/HighwayEnv.git 2> /dev/null\u001B[39m\u001B[38;5;124m'\u001B[39m)\n\u001B[1;32m     18\u001B[0m sys\u001B[38;5;241m.\u001B[39mpath\u001B[38;5;241m.\u001B[39minsert(\u001B[38;5;241m0\u001B[39m, \u001B[38;5;124m'\u001B[39m\u001B[38;5;124m/content/HighwayEnv/scripts/\u001B[39m\u001B[38;5;124m'\u001B[39m)\n\u001B[0;32m---> 19\u001B[0m \u001B[38;5;28;01mfrom\u001B[39;00m \u001B[38;5;21;01mutils\u001B[39;00m \u001B[38;5;28;01mimport\u001B[39;00m show_videos\n",
      "File \u001B[0;32m~/Documents/GitHub/HighwayEnv/scripts/utils.py:8\u001B[0m\n\u001B[1;32m      5\u001B[0m \u001B[38;5;28;01mfrom\u001B[39;00m \u001B[38;5;21;01mIPython\u001B[39;00m \u001B[38;5;28;01mimport\u001B[39;00m display \u001B[38;5;28;01mas\u001B[39;00m ipythondisplay\n\u001B[1;32m      6\u001B[0m \u001B[38;5;28;01mfrom\u001B[39;00m \u001B[38;5;21;01mpyvirtualdisplay\u001B[39;00m \u001B[38;5;28;01mimport\u001B[39;00m Display\n\u001B[0;32m----> 8\u001B[0m display \u001B[38;5;241m=\u001B[39m \u001B[43mDisplay\u001B[49m\u001B[43m(\u001B[49m\u001B[43mvisible\u001B[49m\u001B[38;5;241;43m=\u001B[39;49m\u001B[38;5;241;43m0\u001B[39;49m\u001B[43m,\u001B[49m\u001B[43m \u001B[49m\u001B[43msize\u001B[49m\u001B[38;5;241;43m=\u001B[39;49m\u001B[43m(\u001B[49m\u001B[38;5;241;43m1400\u001B[39;49m\u001B[43m,\u001B[49m\u001B[43m \u001B[49m\u001B[38;5;241;43m900\u001B[39;49m\u001B[43m)\u001B[49m\u001B[43m)\u001B[49m\n\u001B[1;32m      9\u001B[0m display\u001B[38;5;241m.\u001B[39mstart()\n\u001B[1;32m     12\u001B[0m \u001B[38;5;28;01mdef\u001B[39;00m \u001B[38;5;21mrecord_videos\u001B[39m(env, video_folder\u001B[38;5;241m=\u001B[39m\u001B[38;5;124m\"\u001B[39m\u001B[38;5;124mvideos\u001B[39m\u001B[38;5;124m\"\u001B[39m):\n",
      "File \u001B[0;32m~/anaconda3/envs/highway-env/lib/python3.10/site-packages/pyvirtualdisplay/display.py:54\u001B[0m, in \u001B[0;36mDisplay.__init__\u001B[0;34m(self, backend, visible, size, color_depth, bgcolor, use_xauth, retries, extra_args, manage_global_env, **kwargs)\u001B[0m\n\u001B[1;32m     51\u001B[0m \u001B[38;5;28;01mif\u001B[39;00m \u001B[38;5;129;01mnot\u001B[39;00m \u001B[38;5;28mcls\u001B[39m:\n\u001B[1;32m     52\u001B[0m     \u001B[38;5;28;01mraise\u001B[39;00m \u001B[38;5;167;01mValueError\u001B[39;00m(\u001B[38;5;124m\"\u001B[39m\u001B[38;5;124munknown backend: \u001B[39m\u001B[38;5;132;01m%s\u001B[39;00m\u001B[38;5;124m\"\u001B[39m \u001B[38;5;241m%\u001B[39m \u001B[38;5;28mself\u001B[39m\u001B[38;5;241m.\u001B[39m_backend)\n\u001B[0;32m---> 54\u001B[0m \u001B[38;5;28mself\u001B[39m\u001B[38;5;241m.\u001B[39m_obj \u001B[38;5;241m=\u001B[39m \u001B[38;5;28;43mcls\u001B[39;49m\u001B[43m(\u001B[49m\n\u001B[1;32m     55\u001B[0m \u001B[43m    \u001B[49m\u001B[43msize\u001B[49m\u001B[38;5;241;43m=\u001B[39;49m\u001B[43msize\u001B[49m\u001B[43m,\u001B[49m\n\u001B[1;32m     56\u001B[0m \u001B[43m    \u001B[49m\u001B[43mcolor_depth\u001B[49m\u001B[38;5;241;43m=\u001B[39;49m\u001B[43mcolor_depth\u001B[49m\u001B[43m,\u001B[49m\n\u001B[1;32m     57\u001B[0m \u001B[43m    \u001B[49m\u001B[43mbgcolor\u001B[49m\u001B[38;5;241;43m=\u001B[39;49m\u001B[43mbgcolor\u001B[49m\u001B[43m,\u001B[49m\n\u001B[1;32m     58\u001B[0m \u001B[43m    \u001B[49m\u001B[43mretries\u001B[49m\u001B[38;5;241;43m=\u001B[39;49m\u001B[43mretries\u001B[49m\u001B[43m,\u001B[49m\n\u001B[1;32m     59\u001B[0m \u001B[43m    \u001B[49m\u001B[43muse_xauth\u001B[49m\u001B[38;5;241;43m=\u001B[39;49m\u001B[43muse_xauth\u001B[49m\u001B[43m,\u001B[49m\n\u001B[1;32m     60\u001B[0m \u001B[43m    \u001B[49m\u001B[38;5;66;43;03m# check_startup=check_startup,\u001B[39;49;00m\n\u001B[1;32m     61\u001B[0m \u001B[43m    \u001B[49m\u001B[43mextra_args\u001B[49m\u001B[38;5;241;43m=\u001B[39;49m\u001B[43mextra_args\u001B[49m\u001B[43m,\u001B[49m\n\u001B[1;32m     62\u001B[0m \u001B[43m    \u001B[49m\u001B[43mmanage_global_env\u001B[49m\u001B[38;5;241;43m=\u001B[39;49m\u001B[43mmanage_global_env\u001B[49m\u001B[43m,\u001B[49m\n\u001B[1;32m     63\u001B[0m \u001B[43m    \u001B[49m\u001B[38;5;241;43m*\u001B[39;49m\u001B[38;5;241;43m*\u001B[39;49m\u001B[43mkwargs\u001B[49m\n\u001B[1;32m     64\u001B[0m \u001B[43m\u001B[49m\u001B[43m)\u001B[49m\n",
      "File \u001B[0;32m~/anaconda3/envs/highway-env/lib/python3.10/site-packages/pyvirtualdisplay/xvfb.py:44\u001B[0m, in \u001B[0;36mXvfbDisplay.__init__\u001B[0;34m(self, size, color_depth, bgcolor, use_xauth, fbdir, dpi, retries, extra_args, manage_global_env)\u001B[0m\n\u001B[1;32m     41\u001B[0m \u001B[38;5;28mself\u001B[39m\u001B[38;5;241m.\u001B[39m_fbdir \u001B[38;5;241m=\u001B[39m fbdir\n\u001B[1;32m     42\u001B[0m \u001B[38;5;28mself\u001B[39m\u001B[38;5;241m.\u001B[39m_dpi \u001B[38;5;241m=\u001B[39m dpi\n\u001B[0;32m---> 44\u001B[0m \u001B[43mAbstractDisplay\u001B[49m\u001B[38;5;241;43m.\u001B[39;49m\u001B[38;5;21;43m__init__\u001B[39;49m\u001B[43m(\u001B[49m\n\u001B[1;32m     45\u001B[0m \u001B[43m    \u001B[49m\u001B[38;5;28;43mself\u001B[39;49m\u001B[43m,\u001B[49m\n\u001B[1;32m     46\u001B[0m \u001B[43m    \u001B[49m\u001B[43mPROGRAM\u001B[49m\u001B[43m,\u001B[49m\n\u001B[1;32m     47\u001B[0m \u001B[43m    \u001B[49m\u001B[43muse_xauth\u001B[49m\u001B[38;5;241;43m=\u001B[39;49m\u001B[43muse_xauth\u001B[49m\u001B[43m,\u001B[49m\n\u001B[1;32m     48\u001B[0m \u001B[43m    \u001B[49m\u001B[43mretries\u001B[49m\u001B[38;5;241;43m=\u001B[39;49m\u001B[43mretries\u001B[49m\u001B[43m,\u001B[49m\n\u001B[1;32m     49\u001B[0m \u001B[43m    \u001B[49m\u001B[43mextra_args\u001B[49m\u001B[38;5;241;43m=\u001B[39;49m\u001B[43mextra_args\u001B[49m\u001B[43m,\u001B[49m\n\u001B[1;32m     50\u001B[0m \u001B[43m    \u001B[49m\u001B[43mmanage_global_env\u001B[49m\u001B[38;5;241;43m=\u001B[39;49m\u001B[43mmanage_global_env\u001B[49m\u001B[43m,\u001B[49m\n\u001B[1;32m     51\u001B[0m \u001B[43m\u001B[49m\u001B[43m)\u001B[49m\n",
      "File \u001B[0;32m~/anaconda3/envs/highway-env/lib/python3.10/site-packages/pyvirtualdisplay/abstractdisplay.py:85\u001B[0m, in \u001B[0;36mAbstractDisplay.__init__\u001B[0;34m(self, program, use_xauth, retries, extra_args, manage_global_env)\u001B[0m\n\u001B[1;32m     82\u001B[0m \u001B[38;5;28mself\u001B[39m\u001B[38;5;241m.\u001B[39m_pipe_wfd \u001B[38;5;241m=\u001B[39m \u001B[38;5;28;01mNone\u001B[39;00m\n\u001B[1;32m     83\u001B[0m \u001B[38;5;28mself\u001B[39m\u001B[38;5;241m.\u001B[39m_retries_current \u001B[38;5;241m=\u001B[39m \u001B[38;5;241m0\u001B[39m\n\u001B[0;32m---> 85\u001B[0m helptext \u001B[38;5;241m=\u001B[39m \u001B[43mget_helptext\u001B[49m\u001B[43m(\u001B[49m\u001B[43mprogram\u001B[49m\u001B[43m)\u001B[49m\n\u001B[1;32m     86\u001B[0m \u001B[38;5;28mself\u001B[39m\u001B[38;5;241m.\u001B[39m_has_displayfd \u001B[38;5;241m=\u001B[39m \u001B[38;5;124m\"\u001B[39m\u001B[38;5;124m-displayfd\u001B[39m\u001B[38;5;124m\"\u001B[39m \u001B[38;5;129;01min\u001B[39;00m helptext\n\u001B[1;32m     87\u001B[0m \u001B[38;5;28;01mif\u001B[39;00m \u001B[38;5;129;01mnot\u001B[39;00m \u001B[38;5;28mself\u001B[39m\u001B[38;5;241m.\u001B[39m_has_displayfd:\n",
      "File \u001B[0;32m~/anaconda3/envs/highway-env/lib/python3.10/site-packages/pyvirtualdisplay/util.py:13\u001B[0m, in \u001B[0;36mget_helptext\u001B[0;34m(program)\u001B[0m\n\u001B[1;32m      6\u001B[0m cmd \u001B[38;5;241m=\u001B[39m [program, \u001B[38;5;124m\"\u001B[39m\u001B[38;5;124m-help\u001B[39m\u001B[38;5;124m\"\u001B[39m]\n\u001B[1;32m      8\u001B[0m \u001B[38;5;66;03m# py3.7+\u001B[39;00m\n\u001B[1;32m      9\u001B[0m \u001B[38;5;66;03m# p = subprocess.run(cmd, capture_output=True)\u001B[39;00m\n\u001B[1;32m     10\u001B[0m \u001B[38;5;66;03m# stderr = p.stderr\u001B[39;00m\n\u001B[1;32m     11\u001B[0m \n\u001B[1;32m     12\u001B[0m \u001B[38;5;66;03m# py3.6 also\u001B[39;00m\n\u001B[0;32m---> 13\u001B[0m p \u001B[38;5;241m=\u001B[39m \u001B[43msubprocess\u001B[49m\u001B[38;5;241;43m.\u001B[39;49m\u001B[43mPopen\u001B[49m\u001B[43m(\u001B[49m\n\u001B[1;32m     14\u001B[0m \u001B[43m    \u001B[49m\u001B[43mcmd\u001B[49m\u001B[43m,\u001B[49m\n\u001B[1;32m     15\u001B[0m \u001B[43m    \u001B[49m\u001B[43mstdout\u001B[49m\u001B[38;5;241;43m=\u001B[39;49m\u001B[43msubprocess\u001B[49m\u001B[38;5;241;43m.\u001B[39;49m\u001B[43mPIPE\u001B[49m\u001B[43m,\u001B[49m\n\u001B[1;32m     16\u001B[0m \u001B[43m    \u001B[49m\u001B[43mstderr\u001B[49m\u001B[38;5;241;43m=\u001B[39;49m\u001B[43msubprocess\u001B[49m\u001B[38;5;241;43m.\u001B[39;49m\u001B[43mPIPE\u001B[49m\u001B[43m,\u001B[49m\n\u001B[1;32m     17\u001B[0m \u001B[43m    \u001B[49m\u001B[43mshell\u001B[49m\u001B[38;5;241;43m=\u001B[39;49m\u001B[38;5;28;43;01mFalse\u001B[39;49;00m\u001B[43m,\u001B[49m\n\u001B[1;32m     18\u001B[0m \u001B[43m\u001B[49m\u001B[43m)\u001B[49m\n\u001B[1;32m     19\u001B[0m _, stderr \u001B[38;5;241m=\u001B[39m p\u001B[38;5;241m.\u001B[39mcommunicate()\n\u001B[1;32m     21\u001B[0m helptext \u001B[38;5;241m=\u001B[39m stderr\u001B[38;5;241m.\u001B[39mdecode(\u001B[38;5;124m\"\u001B[39m\u001B[38;5;124mutf-8\u001B[39m\u001B[38;5;124m\"\u001B[39m, \u001B[38;5;124m\"\u001B[39m\u001B[38;5;124mignore\u001B[39m\u001B[38;5;124m\"\u001B[39m)\n",
      "File \u001B[0;32m~/anaconda3/envs/highway-env/lib/python3.10/subprocess.py:971\u001B[0m, in \u001B[0;36mPopen.__init__\u001B[0;34m(self, args, bufsize, executable, stdin, stdout, stderr, preexec_fn, close_fds, shell, cwd, env, universal_newlines, startupinfo, creationflags, restore_signals, start_new_session, pass_fds, user, group, extra_groups, encoding, errors, text, umask, pipesize)\u001B[0m\n\u001B[1;32m    967\u001B[0m         \u001B[38;5;28;01mif\u001B[39;00m \u001B[38;5;28mself\u001B[39m\u001B[38;5;241m.\u001B[39mtext_mode:\n\u001B[1;32m    968\u001B[0m             \u001B[38;5;28mself\u001B[39m\u001B[38;5;241m.\u001B[39mstderr \u001B[38;5;241m=\u001B[39m io\u001B[38;5;241m.\u001B[39mTextIOWrapper(\u001B[38;5;28mself\u001B[39m\u001B[38;5;241m.\u001B[39mstderr,\n\u001B[1;32m    969\u001B[0m                     encoding\u001B[38;5;241m=\u001B[39mencoding, errors\u001B[38;5;241m=\u001B[39merrors)\n\u001B[0;32m--> 971\u001B[0m     \u001B[38;5;28;43mself\u001B[39;49m\u001B[38;5;241;43m.\u001B[39;49m\u001B[43m_execute_child\u001B[49m\u001B[43m(\u001B[49m\u001B[43margs\u001B[49m\u001B[43m,\u001B[49m\u001B[43m \u001B[49m\u001B[43mexecutable\u001B[49m\u001B[43m,\u001B[49m\u001B[43m \u001B[49m\u001B[43mpreexec_fn\u001B[49m\u001B[43m,\u001B[49m\u001B[43m \u001B[49m\u001B[43mclose_fds\u001B[49m\u001B[43m,\u001B[49m\n\u001B[1;32m    972\u001B[0m \u001B[43m                        \u001B[49m\u001B[43mpass_fds\u001B[49m\u001B[43m,\u001B[49m\u001B[43m \u001B[49m\u001B[43mcwd\u001B[49m\u001B[43m,\u001B[49m\u001B[43m \u001B[49m\u001B[43menv\u001B[49m\u001B[43m,\u001B[49m\n\u001B[1;32m    973\u001B[0m \u001B[43m                        \u001B[49m\u001B[43mstartupinfo\u001B[49m\u001B[43m,\u001B[49m\u001B[43m \u001B[49m\u001B[43mcreationflags\u001B[49m\u001B[43m,\u001B[49m\u001B[43m \u001B[49m\u001B[43mshell\u001B[49m\u001B[43m,\u001B[49m\n\u001B[1;32m    974\u001B[0m \u001B[43m                        \u001B[49m\u001B[43mp2cread\u001B[49m\u001B[43m,\u001B[49m\u001B[43m \u001B[49m\u001B[43mp2cwrite\u001B[49m\u001B[43m,\u001B[49m\n\u001B[1;32m    975\u001B[0m \u001B[43m                        \u001B[49m\u001B[43mc2pread\u001B[49m\u001B[43m,\u001B[49m\u001B[43m \u001B[49m\u001B[43mc2pwrite\u001B[49m\u001B[43m,\u001B[49m\n\u001B[1;32m    976\u001B[0m \u001B[43m                        \u001B[49m\u001B[43merrread\u001B[49m\u001B[43m,\u001B[49m\u001B[43m \u001B[49m\u001B[43merrwrite\u001B[49m\u001B[43m,\u001B[49m\n\u001B[1;32m    977\u001B[0m \u001B[43m                        \u001B[49m\u001B[43mrestore_signals\u001B[49m\u001B[43m,\u001B[49m\n\u001B[1;32m    978\u001B[0m \u001B[43m                        \u001B[49m\u001B[43mgid\u001B[49m\u001B[43m,\u001B[49m\u001B[43m \u001B[49m\u001B[43mgids\u001B[49m\u001B[43m,\u001B[49m\u001B[43m \u001B[49m\u001B[43muid\u001B[49m\u001B[43m,\u001B[49m\u001B[43m \u001B[49m\u001B[43mumask\u001B[49m\u001B[43m,\u001B[49m\n\u001B[1;32m    979\u001B[0m \u001B[43m                        \u001B[49m\u001B[43mstart_new_session\u001B[49m\u001B[43m)\u001B[49m\n\u001B[1;32m    980\u001B[0m \u001B[38;5;28;01mexcept\u001B[39;00m:\n\u001B[1;32m    981\u001B[0m     \u001B[38;5;66;03m# Cleanup if the child failed starting.\u001B[39;00m\n\u001B[1;32m    982\u001B[0m     \u001B[38;5;28;01mfor\u001B[39;00m f \u001B[38;5;129;01min\u001B[39;00m \u001B[38;5;28mfilter\u001B[39m(\u001B[38;5;28;01mNone\u001B[39;00m, (\u001B[38;5;28mself\u001B[39m\u001B[38;5;241m.\u001B[39mstdin, \u001B[38;5;28mself\u001B[39m\u001B[38;5;241m.\u001B[39mstdout, \u001B[38;5;28mself\u001B[39m\u001B[38;5;241m.\u001B[39mstderr)):\n",
      "File \u001B[0;32m~/anaconda3/envs/highway-env/lib/python3.10/subprocess.py:1863\u001B[0m, in \u001B[0;36mPopen._execute_child\u001B[0;34m(self, args, executable, preexec_fn, close_fds, pass_fds, cwd, env, startupinfo, creationflags, shell, p2cread, p2cwrite, c2pread, c2pwrite, errread, errwrite, restore_signals, gid, gids, uid, umask, start_new_session)\u001B[0m\n\u001B[1;32m   1861\u001B[0m     \u001B[38;5;28;01mif\u001B[39;00m errno_num \u001B[38;5;241m!=\u001B[39m \u001B[38;5;241m0\u001B[39m:\n\u001B[1;32m   1862\u001B[0m         err_msg \u001B[38;5;241m=\u001B[39m os\u001B[38;5;241m.\u001B[39mstrerror(errno_num)\n\u001B[0;32m-> 1863\u001B[0m     \u001B[38;5;28;01mraise\u001B[39;00m child_exception_type(errno_num, err_msg, err_filename)\n\u001B[1;32m   1864\u001B[0m \u001B[38;5;28;01mraise\u001B[39;00m child_exception_type(err_msg)\n",
      "\u001B[0;31mFileNotFoundError\u001B[0m: [Errno 2] No such file or directory: 'Xvfb'"
     ]
    }
   ],
   "source": [
    "#@title Import requirements\n",
    "\n",
    "# Environment\n",
    "!pip install highway-env\n",
    "import gymnasium as gym\n",
    "\n",
    "# Agent\n",
    "!pip install git+https://github.com/eleurent/rl-agents#egg=rl-agents\n",
    "\n",
    "# Visualisation utils\n",
    "!pip install moviepy\n",
    "!pip install imageio_ffmpeg\n",
    "import sys\n",
    "%load_ext tensorboard\n",
    "!pip install tensorboardx gym pyvirtualdisplay\n",
    "!apt-get install -y xvfb ffmpeg\n",
    "!git clone https://github.com/Farama-Foundation/HighwayEnv.git 2> /dev/null\n",
    "sys.path.insert(0, '/content/HighwayEnv/scripts/')\n",
    "from utils import show_videos"
   ]
  },
  {
   "cell_type": "markdown",
   "metadata": {
    "id": "vvOEW00pdHrG"
   },
   "source": [
    "## Training\n",
    "\n",
    "We use a policy architecture based on social attention, see [[Leurent and Mercat, 2019]](https://arxiv.org/abs/1911.12250).\n"
   ]
  },
  {
   "cell_type": "code",
   "execution_count": 3,
   "metadata": {
    "id": "QowKW3ix45ZW",
    "ExecuteTime": {
     "end_time": "2024-03-12T18:13:23.463659172Z",
     "start_time": "2024-03-12T18:13:20.874031481Z"
    }
   },
   "outputs": [
    {
     "name": "stdout",
     "output_type": "stream",
     "text": [
      "[Errno 2] No such file or directory: '/content/rl-agents/scripts/'\n",
      "/home/kevin/Documents/GitHub/HighwayEnv/scripts\n"
     ]
    },
    {
     "name": "stderr",
     "output_type": "stream",
     "text": [
      "/home/kevin/anaconda3/envs/highway-env/lib/python3.10/site-packages/IPython/core/magics/osm.py:393: UserWarning: using bookmarks requires you to install the `pickleshare` library.\n",
      "  bkms = self.shell.db.get('bookmarks', {})\n"
     ]
    },
    {
     "ename": "FileNotFoundError",
     "evalue": "[Errno 2] No such file or directory: 'configs/IntersectionEnv/env.json'",
     "output_type": "error",
     "traceback": [
      "\u001B[0;31m---------------------------------------------------------------------------\u001B[0m",
      "\u001B[0;31mFileNotFoundError\u001B[0m                         Traceback (most recent call last)",
      "Cell \u001B[0;32mIn[3], line 14\u001B[0m\n\u001B[1;32m     11\u001B[0m env_config \u001B[38;5;241m=\u001B[39m \u001B[38;5;124m'\u001B[39m\u001B[38;5;124mconfigs/IntersectionEnv/env.json\u001B[39m\u001B[38;5;124m'\u001B[39m\n\u001B[1;32m     12\u001B[0m agent_config \u001B[38;5;241m=\u001B[39m \u001B[38;5;124m'\u001B[39m\u001B[38;5;124mconfigs/IntersectionEnv/agents/DQNAgent/ego_attention_2h.json\u001B[39m\u001B[38;5;124m'\u001B[39m\n\u001B[0;32m---> 14\u001B[0m env \u001B[38;5;241m=\u001B[39m \u001B[43mload_environment\u001B[49m\u001B[43m(\u001B[49m\u001B[43menv_config\u001B[49m\u001B[43m)\u001B[49m\n\u001B[1;32m     15\u001B[0m agent \u001B[38;5;241m=\u001B[39m load_agent(agent_config, env)\n\u001B[1;32m     16\u001B[0m evaluation \u001B[38;5;241m=\u001B[39m Evaluation(env, agent, num_episodes\u001B[38;5;241m=\u001B[39mNUM_EPISODES, display_env\u001B[38;5;241m=\u001B[39m\u001B[38;5;28;01mFalse\u001B[39;00m, display_agent\u001B[38;5;241m=\u001B[39m\u001B[38;5;28;01mFalse\u001B[39;00m)\n",
      "File \u001B[0;32m~/anaconda3/envs/highway-env/lib/python3.10/site-packages/rl_agents/agents/common/factory.py:68\u001B[0m, in \u001B[0;36mload_environment\u001B[0;34m(env_config)\u001B[0m\n\u001B[1;32m     66\u001B[0m \u001B[38;5;66;03m# Load the environment config from file\u001B[39;00m\n\u001B[1;32m     67\u001B[0m \u001B[38;5;28;01mif\u001B[39;00m \u001B[38;5;129;01mnot\u001B[39;00m \u001B[38;5;28misinstance\u001B[39m(env_config, \u001B[38;5;28mdict\u001B[39m):\n\u001B[0;32m---> 68\u001B[0m     \u001B[38;5;28;01mwith\u001B[39;00m \u001B[38;5;28;43mopen\u001B[39;49m\u001B[43m(\u001B[49m\u001B[43menv_config\u001B[49m\u001B[43m)\u001B[49m \u001B[38;5;28;01mas\u001B[39;00m f:\n\u001B[1;32m     69\u001B[0m         env_config \u001B[38;5;241m=\u001B[39m json\u001B[38;5;241m.\u001B[39mloads(f\u001B[38;5;241m.\u001B[39mread())\n\u001B[1;32m     71\u001B[0m \u001B[38;5;66;03m# Make the environment\u001B[39;00m\n",
      "\u001B[0;31mFileNotFoundError\u001B[0m: [Errno 2] No such file or directory: 'configs/IntersectionEnv/env.json'"
     ]
    }
   ],
   "source": [
    "#@title Prepare environment, agent, and evaluation process.\n",
    "\n",
    "NUM_EPISODES = 3000  #@param {type: \"integer\"}\n",
    "\n",
    "from rl_agents.trainer.evaluation import Evaluation\n",
    "from rl_agents.agents.common.factory import load_agent, load_environment\n",
    "\n",
    "# Get the environment and agent configurations from the rl-agents repository\n",
    "!git clone https://github.com/eleurent/rl-agents.git 2> /dev/null\n",
    "%cd /content/rl-agents/scripts/\n",
    "env_config = 'configs/IntersectionEnv/env.json'\n",
    "agent_config = 'configs/IntersectionEnv/agents/DQNAgent/ego_attention_2h.json'\n",
    "\n",
    "env = load_environment(env_config)\n",
    "agent = load_agent(agent_config, env)\n",
    "evaluation = Evaluation(env, agent, num_episodes=NUM_EPISODES, display_env=False, display_agent=False)\n",
    "print(f\"Ready to train {agent} on {env}\")"
   ]
  },
  {
   "cell_type": "markdown",
   "metadata": {
    "id": "nqnGqW6jd1xN"
   },
   "source": [
    "Run tensorboard locally to visualize training."
   ]
  },
  {
   "cell_type": "code",
   "execution_count": null,
   "metadata": {
    "id": "q7QJY2wc4_1N"
   },
   "outputs": [],
   "source": [
    "%tensorboard --logdir \"{evaluation.directory}\""
   ]
  },
  {
   "cell_type": "markdown",
   "metadata": {
    "id": "BtK9dtfb0JMF"
   },
   "source": [
    "Start training. This should take about an hour."
   ]
  },
  {
   "cell_type": "code",
   "execution_count": null,
   "metadata": {
    "id": "sFVq1gFz42Eg"
   },
   "outputs": [],
   "source": [
    "evaluation.train()"
   ]
  },
  {
   "cell_type": "markdown",
   "metadata": {
    "id": "-lNvWg42RWiw"
   },
   "source": [
    "Progress can be visualised in the tensorboard cell above, which should update every 30s (or manually). You may need to click the *Fit domain to data* buttons below each graph."
   ]
  },
  {
   "cell_type": "markdown",
   "metadata": {
    "id": "VKfvu5uhzCIU"
   },
   "source": [
    "## Testing"
   ]
  },
  {
   "cell_type": "code",
   "execution_count": null,
   "metadata": {
    "id": "gY0rpVYUtRpN"
   },
   "outputs": [],
   "source": [
    "#@title Run the learned policy for a few episodes.\n",
    "env = load_environment(env_config)\n",
    "env.config[\"offscreen_rendering\"] = True\n",
    "agent = load_agent(agent_config, env)\n",
    "evaluation = Evaluation(env, agent, num_episodes=1)\n",
    "evaluation.train()\n",
    "show_videos(evaluation.run_directory)"
   ]
  }
 ],
 "metadata": {
  "accelerator": "GPU",
  "colab": {
   "name": "SocialAttentionDQN",
   "provenance": []
  },
  "kernelspec": {
   "display_name": "Python 3",
   "language": "python",
   "name": "python3"
  },
  "pycharm": {
   "stem_cell": {
    "cell_type": "raw",
    "metadata": {
     "collapsed": false
    },
    "source": []
   }
  }
 },
 "nbformat": 4,
 "nbformat_minor": 0
}
